{
  "nbformat": 4,
  "nbformat_minor": 0,
  "metadata": {
    "colab": {
      "provenance": [],
      "gpuType": "T4"
    },
    "kernelspec": {
      "name": "python3",
      "display_name": "Python 3"
    },
    "language_info": {
      "name": "python"
    },
    "accelerator": "GPU"
  },
  "cells": [
    {
      "cell_type": "code",
      "source": [
        "# Mount Google Drive (if necessary)\n",
        "from google.colab import drive\n",
        "drive.mount('/content/drive')\n"
      ],
      "metadata": {
        "colab": {
          "base_uri": "https://localhost:8080/"
        },
        "id": "5UrowKD3v8M6",
        "outputId": "a8129b42-f2be-4883-f6fd-472c94b21081"
      },
      "execution_count": null,
      "outputs": [
        {
          "output_type": "stream",
          "name": "stdout",
          "text": [
            "Mounted at /content/drive\n"
          ]
        }
      ]
    },
    {
      "cell_type": "code",
      "execution_count": null,
      "metadata": {
        "id": "dzWI1N_VtH6G"
      },
      "outputs": [],
      "source": [
        "from tensorflow.keras.preprocessing.image import ImageDataGenerator\n",
        "from tensorflow.keras.applications import ResNet50\n",
        "from tensorflow.keras.layers import AveragePooling2D\n",
        "from tensorflow.keras.layers import Dropout\n",
        "from tensorflow.keras.layers import Flatten\n",
        "from tensorflow.keras.layers import Dense\n",
        "from tensorflow.keras.layers import Input\n",
        "from tensorflow.keras.models import Model\n",
        "from tensorflow.keras.optimizers import Adam\n",
        "from tensorflow.keras.applications.mobilenet_v2 import preprocess_input\n",
        "from tensorflow.keras.preprocessing.image import img_to_array\n",
        "from tensorflow.keras.preprocessing.image import load_img\n",
        "from tensorflow.keras.utils import to_categorical\n",
        "from sklearn.preprocessing import LabelBinarizer\n",
        "from sklearn.model_selection import train_test_split\n",
        "from sklearn.metrics import classification_report\n",
        "from imutils import paths\n",
        "import matplotlib.pyplot as plt\n",
        "import numpy as np\n",
        "import argparse\n",
        "import os"
      ]
    },
    {
      "cell_type": "code",
      "source": [
        "# initialize the initial learning rate, number of epochs to train for,\n",
        "# and batch size\n",
        "INIT_LR = 1e-4\n",
        "EPOCHS = 50\n",
        "BS = 32\n",
        "\n",
        "DIRECTORY = r\"/content/drive/MyDrive/data5\"\n",
        "CATEGORIES = [\"with_mask\", \"without_mask\"]\n",
        "\n",
        "# grab the list of images in our dataset directory, then initialize\n",
        "# the list of data (i.e., images) and class images\n",
        "print(\"[INFO] loading images...\")"
      ],
      "metadata": {
        "colab": {
          "base_uri": "https://localhost:8080/"
        },
        "id": "vOny_Dfqt1UL",
        "outputId": "fd274677-cb80-4939-adf5-b124db753681"
      },
      "execution_count": null,
      "outputs": [
        {
          "output_type": "stream",
          "name": "stdout",
          "text": [
            "[INFO] loading images...\n"
          ]
        }
      ]
    },
    {
      "cell_type": "code",
      "source": [
        "data = []\n",
        "labels = []\n",
        "\n",
        "for category in CATEGORIES:\n",
        "    path = os.path.join(DIRECTORY, category)\n",
        "    for img in os.listdir(path):\n",
        "    \timg_path = os.path.join(path, img)\n",
        "    \timage = load_img(img_path, target_size=(224, 224))\n",
        "    \timage = img_to_array(image)\n",
        "    \timage = preprocess_input(image)\n",
        "\n",
        "    \tdata.append(image)\n",
        "    \tlabels.append(category)"
      ],
      "metadata": {
        "id": "bGm0Mpr3uEax"
      },
      "execution_count": null,
      "outputs": []
    },
    {
      "cell_type": "code",
      "source": [
        "# perform one-hot encoding on the labels\n",
        "lb = LabelBinarizer()\n",
        "labels = lb.fit_transform(labels)\n",
        "labels = to_categorical(labels)\n",
        "\n",
        "data = np.array(data, dtype=\"float32\")\n",
        "labels = np.array(labels)\n",
        "# partition the data into training and testing splits using 80% of\n",
        "# the data for training and the remaining 20% for testing\n",
        "(trainX, testX, trainY, testY) = train_test_split(data, labels,\n",
        "\ttest_size=0.20, stratify=labels, random_state=42)\n",
        "# construct the training image generator for data augmentation\n",
        "aug = ImageDataGenerator(\n",
        "\trotation_range=20,\n",
        "\tzoom_range=0.15,\n",
        "\twidth_shift_range=0.2,\n",
        "\theight_shift_range=0.2,\n",
        "\tshear_range=0.15,\n",
        "\thorizontal_flip=True,\n",
        "\tfill_mode=\"nearest\")"
      ],
      "metadata": {
        "id": "0Dt40dEcuH6j"
      },
      "execution_count": null,
      "outputs": []
    },
    {
      "cell_type": "code",
      "source": [
        "from tensorflow.keras.applications import VGG16\n",
        "from tensorflow.keras.layers import AveragePooling2D, Flatten, Dense, Dropout\n",
        "from tensorflow.keras.models import Model\n",
        "from tensorflow.keras import Input\n",
        "\n",
        "# Load the pre-trained VGG16 model\n",
        "baseModel = VGG16(weights=\"imagenet\", include_top=False, input_tensor=Input(shape=(224, 224, 3)))\n",
        "\n",
        "# Construct the head of the model that will be placed on top of the base model\n",
        "headModel = baseModel.output\n",
        "headModel = AveragePooling2D(pool_size=(7, 7))(headModel)\n",
        "headModel = Flatten(name=\"flatten\")(headModel)\n",
        "headModel = Dense(128, activation=\"relu\")(headModel)\n",
        "headModel = Dropout(0.5)(headModel)\n",
        "headModel = Dense(2, activation=\"softmax\")(headModel)\n",
        "\n",
        "# Combine the base model and the head model\n",
        "model = Model(inputs=baseModel.input, outputs=headModel)\n",
        "\n",
        "# Print the model summary\n",
        "model.summary()\n",
        "\n",
        "# loop over all layers in the base model and freeze them so they will\n",
        "# *not* be updated during the first training process\n",
        "for layer in baseModel.layers:\n",
        "\tlayer.trainable = False"
      ],
      "metadata": {
        "colab": {
          "base_uri": "https://localhost:8080/"
        },
        "id": "KMDbOiXbuMcS",
        "outputId": "eeea2271-9b63-4ccc-a0a6-9dda9bfd8033"
      },
      "execution_count": null,
      "outputs": [
        {
          "output_type": "stream",
          "name": "stdout",
          "text": [
            "Downloading data from https://storage.googleapis.com/tensorflow/keras-applications/vgg16/vgg16_weights_tf_dim_ordering_tf_kernels_notop.h5\n",
            "58889256/58889256 [==============================] - 3s 0us/step\n",
            "Model: \"model\"\n",
            "_________________________________________________________________\n",
            " Layer (type)                Output Shape              Param #   \n",
            "=================================================================\n",
            " input_1 (InputLayer)        [(None, 224, 224, 3)]     0         \n",
            "                                                                 \n",
            " block1_conv1 (Conv2D)       (None, 224, 224, 64)      1792      \n",
            "                                                                 \n",
            " block1_conv2 (Conv2D)       (None, 224, 224, 64)      36928     \n",
            "                                                                 \n",
            " block1_pool (MaxPooling2D)  (None, 112, 112, 64)      0         \n",
            "                                                                 \n",
            " block2_conv1 (Conv2D)       (None, 112, 112, 128)     73856     \n",
            "                                                                 \n",
            " block2_conv2 (Conv2D)       (None, 112, 112, 128)     147584    \n",
            "                                                                 \n",
            " block2_pool (MaxPooling2D)  (None, 56, 56, 128)       0         \n",
            "                                                                 \n",
            " block3_conv1 (Conv2D)       (None, 56, 56, 256)       295168    \n",
            "                                                                 \n",
            " block3_conv2 (Conv2D)       (None, 56, 56, 256)       590080    \n",
            "                                                                 \n",
            " block3_conv3 (Conv2D)       (None, 56, 56, 256)       590080    \n",
            "                                                                 \n",
            " block3_pool (MaxPooling2D)  (None, 28, 28, 256)       0         \n",
            "                                                                 \n",
            " block4_conv1 (Conv2D)       (None, 28, 28, 512)       1180160   \n",
            "                                                                 \n",
            " block4_conv2 (Conv2D)       (None, 28, 28, 512)       2359808   \n",
            "                                                                 \n",
            " block4_conv3 (Conv2D)       (None, 28, 28, 512)       2359808   \n",
            "                                                                 \n",
            " block4_pool (MaxPooling2D)  (None, 14, 14, 512)       0         \n",
            "                                                                 \n",
            " block5_conv1 (Conv2D)       (None, 14, 14, 512)       2359808   \n",
            "                                                                 \n",
            " block5_conv2 (Conv2D)       (None, 14, 14, 512)       2359808   \n",
            "                                                                 \n",
            " block5_conv3 (Conv2D)       (None, 14, 14, 512)       2359808   \n",
            "                                                                 \n",
            " block5_pool (MaxPooling2D)  (None, 7, 7, 512)         0         \n",
            "                                                                 \n",
            " average_pooling2d (AverageP  (None, 1, 1, 512)        0         \n",
            " ooling2D)                                                       \n",
            "                                                                 \n",
            " flatten (Flatten)           (None, 512)               0         \n",
            "                                                                 \n",
            " dense (Dense)               (None, 128)               65664     \n",
            "                                                                 \n",
            " dropout (Dropout)           (None, 128)               0         \n",
            "                                                                 \n",
            " dense_1 (Dense)             (None, 2)                 258       \n",
            "                                                                 \n",
            "=================================================================\n",
            "Total params: 14,780,610\n",
            "Trainable params: 14,780,610\n",
            "Non-trainable params: 0\n",
            "_________________________________________________________________\n"
          ]
        }
      ]
    },
    {
      "cell_type": "code",
      "source": [
        "import tensorflow as tf\n",
        "# compile our model\n",
        "print(\"[INFO] compiling model...\")\n",
        "\n",
        "opt = tf.keras.optimizers.legacy.Adam(lr=INIT_LR, decay=INIT_LR / EPOCHS)\n",
        "model.compile(loss=\"binary_crossentropy\", optimizer=opt,\n",
        "\tmetrics=[\"accuracy\"])\n",
        "# train the head of the network\n",
        "print(\"[INFO] training head...\")\n",
        "H = model.fit(\n",
        "\taug.flow(trainX, trainY, batch_size=BS),\n",
        "\tsteps_per_epoch=len(trainX) // BS,\n",
        "\tvalidation_data=(testX, testY),\n",
        "\tvalidation_steps=len(testX) // BS,\n",
        "\tepochs=EPOCHS)"
      ],
      "metadata": {
        "colab": {
          "base_uri": "https://localhost:8080/"
        },
        "id": "6GXE3WxmuSt9",
        "outputId": "cb28f477-927b-41d1-c4f2-ece768a79bef"
      },
      "execution_count": null,
      "outputs": [
        {
          "output_type": "stream",
          "name": "stdout",
          "text": [
            "[INFO] compiling model...\n",
            "[INFO] training head...\n"
          ]
        },
        {
          "output_type": "stream",
          "name": "stderr",
          "text": [
            "/usr/local/lib/python3.10/dist-packages/keras/optimizers/legacy/adam.py:117: UserWarning: The `lr` argument is deprecated, use `learning_rate` instead.\n",
            "  super().__init__(name, **kwargs)\n"
          ]
        },
        {
          "output_type": "stream",
          "name": "stdout",
          "text": [
            "Epoch 1/50\n",
            "72/72 [==============================] - 53s 568ms/step - loss: 0.7179 - accuracy: 0.5594 - val_loss: 0.6219 - val_accuracy: 0.6914\n",
            "Epoch 2/50\n",
            "72/72 [==============================] - 36s 505ms/step - loss: 0.6440 - accuracy: 0.6735 - val_loss: 0.5730 - val_accuracy: 0.8448\n",
            "Epoch 3/50\n",
            "72/72 [==============================] - 32s 446ms/step - loss: 0.5875 - accuracy: 0.7509 - val_loss: 0.5240 - val_accuracy: 0.8586\n",
            "Epoch 4/50\n",
            "72/72 [==============================] - 32s 451ms/step - loss: 0.5485 - accuracy: 0.7955 - val_loss: 0.4783 - val_accuracy: 0.8655\n",
            "Epoch 5/50\n",
            "72/72 [==============================] - 32s 452ms/step - loss: 0.5067 - accuracy: 0.8121 - val_loss: 0.4401 - val_accuracy: 0.8724\n",
            "Epoch 6/50\n",
            "72/72 [==============================] - 33s 453ms/step - loss: 0.4729 - accuracy: 0.8383 - val_loss: 0.4043 - val_accuracy: 0.8862\n",
            "Epoch 7/50\n",
            "72/72 [==============================] - 32s 450ms/step - loss: 0.4342 - accuracy: 0.8575 - val_loss: 0.3706 - val_accuracy: 0.9017\n",
            "Epoch 8/50\n",
            "72/72 [==============================] - 33s 456ms/step - loss: 0.4085 - accuracy: 0.8741 - val_loss: 0.3407 - val_accuracy: 0.9138\n",
            "Epoch 9/50\n",
            "72/72 [==============================] - 30s 422ms/step - loss: 0.3825 - accuracy: 0.8816 - val_loss: 0.3121 - val_accuracy: 0.9224\n",
            "Epoch 10/50\n",
            "72/72 [==============================] - 31s 423ms/step - loss: 0.3585 - accuracy: 0.8934 - val_loss: 0.2885 - val_accuracy: 0.9259\n",
            "Epoch 11/50\n",
            "72/72 [==============================] - 31s 433ms/step - loss: 0.3401 - accuracy: 0.8942 - val_loss: 0.2697 - val_accuracy: 0.9345\n",
            "Epoch 12/50\n",
            "72/72 [==============================] - 31s 424ms/step - loss: 0.3169 - accuracy: 0.9073 - val_loss: 0.2489 - val_accuracy: 0.9293\n",
            "Epoch 13/50\n",
            "72/72 [==============================] - 30s 411ms/step - loss: 0.2980 - accuracy: 0.9213 - val_loss: 0.2345 - val_accuracy: 0.9483\n",
            "Epoch 14/50\n",
            "72/72 [==============================] - 33s 456ms/step - loss: 0.2774 - accuracy: 0.9261 - val_loss: 0.2231 - val_accuracy: 0.9483\n",
            "Epoch 15/50\n",
            "72/72 [==============================] - 32s 449ms/step - loss: 0.2647 - accuracy: 0.9279 - val_loss: 0.2086 - val_accuracy: 0.9500\n",
            "Epoch 16/50\n",
            "72/72 [==============================] - 30s 423ms/step - loss: 0.2467 - accuracy: 0.9379 - val_loss: 0.1979 - val_accuracy: 0.9517\n",
            "Epoch 17/50\n",
            "72/72 [==============================] - 34s 472ms/step - loss: 0.2376 - accuracy: 0.9414 - val_loss: 0.1838 - val_accuracy: 0.9517\n",
            "Epoch 18/50\n",
            "72/72 [==============================] - 32s 450ms/step - loss: 0.2234 - accuracy: 0.9506 - val_loss: 0.1752 - val_accuracy: 0.9517\n",
            "Epoch 19/50\n",
            "72/72 [==============================] - 33s 454ms/step - loss: 0.2185 - accuracy: 0.9462 - val_loss: 0.1662 - val_accuracy: 0.9517\n",
            "Epoch 20/50\n",
            "72/72 [==============================] - 32s 451ms/step - loss: 0.2086 - accuracy: 0.9441 - val_loss: 0.1591 - val_accuracy: 0.9517\n",
            "Epoch 21/50\n",
            "72/72 [==============================] - 32s 449ms/step - loss: 0.1977 - accuracy: 0.9519 - val_loss: 0.1520 - val_accuracy: 0.9534\n",
            "Epoch 22/50\n",
            "72/72 [==============================] - 31s 428ms/step - loss: 0.1791 - accuracy: 0.9598 - val_loss: 0.1463 - val_accuracy: 0.9552\n",
            "Epoch 23/50\n",
            "72/72 [==============================] - 32s 447ms/step - loss: 0.1791 - accuracy: 0.9541 - val_loss: 0.1404 - val_accuracy: 0.9552\n",
            "Epoch 24/50\n",
            "72/72 [==============================] - 30s 418ms/step - loss: 0.1791 - accuracy: 0.9563 - val_loss: 0.1372 - val_accuracy: 0.9534\n",
            "Epoch 25/50\n",
            "72/72 [==============================] - 32s 448ms/step - loss: 0.1697 - accuracy: 0.9554 - val_loss: 0.1325 - val_accuracy: 0.9569\n",
            "Epoch 26/50\n",
            "72/72 [==============================] - 32s 451ms/step - loss: 0.1645 - accuracy: 0.9607 - val_loss: 0.1280 - val_accuracy: 0.9586\n",
            "Epoch 27/50\n",
            "72/72 [==============================] - 30s 414ms/step - loss: 0.1571 - accuracy: 0.9615 - val_loss: 0.1244 - val_accuracy: 0.9603\n",
            "Epoch 28/50\n",
            "72/72 [==============================] - 32s 445ms/step - loss: 0.1468 - accuracy: 0.9615 - val_loss: 0.1200 - val_accuracy: 0.9569\n",
            "Epoch 29/50\n",
            "72/72 [==============================] - 33s 454ms/step - loss: 0.1507 - accuracy: 0.9611 - val_loss: 0.1168 - val_accuracy: 0.9586\n",
            "Epoch 30/50\n",
            "72/72 [==============================] - 33s 452ms/step - loss: 0.1373 - accuracy: 0.9668 - val_loss: 0.1138 - val_accuracy: 0.9655\n",
            "Epoch 31/50\n",
            "72/72 [==============================] - 33s 452ms/step - loss: 0.1318 - accuracy: 0.9725 - val_loss: 0.1098 - val_accuracy: 0.9621\n",
            "Epoch 32/50\n",
            "72/72 [==============================] - 33s 451ms/step - loss: 0.1290 - accuracy: 0.9672 - val_loss: 0.1071 - val_accuracy: 0.9621\n",
            "Epoch 33/50\n",
            "72/72 [==============================] - 33s 452ms/step - loss: 0.1307 - accuracy: 0.9659 - val_loss: 0.1058 - val_accuracy: 0.9672\n",
            "Epoch 34/50\n",
            "72/72 [==============================] - 30s 416ms/step - loss: 0.1275 - accuracy: 0.9650 - val_loss: 0.1022 - val_accuracy: 0.9655\n",
            "Epoch 35/50\n",
            "72/72 [==============================] - 32s 451ms/step - loss: 0.1204 - accuracy: 0.9694 - val_loss: 0.0999 - val_accuracy: 0.9690\n",
            "Epoch 36/50\n",
            "72/72 [==============================] - 30s 414ms/step - loss: 0.1114 - accuracy: 0.9720 - val_loss: 0.0976 - val_accuracy: 0.9655\n",
            "Epoch 37/50\n",
            "72/72 [==============================] - 32s 446ms/step - loss: 0.1154 - accuracy: 0.9677 - val_loss: 0.0967 - val_accuracy: 0.9741\n",
            "Epoch 38/50\n",
            "72/72 [==============================] - 33s 451ms/step - loss: 0.1097 - accuracy: 0.9799 - val_loss: 0.0947 - val_accuracy: 0.9724\n",
            "Epoch 39/50\n",
            "72/72 [==============================] - 30s 421ms/step - loss: 0.1108 - accuracy: 0.9742 - val_loss: 0.0926 - val_accuracy: 0.9707\n",
            "Epoch 40/50\n",
            "72/72 [==============================] - 33s 454ms/step - loss: 0.1047 - accuracy: 0.9747 - val_loss: 0.0910 - val_accuracy: 0.9724\n",
            "Epoch 41/50\n",
            "72/72 [==============================] - 30s 421ms/step - loss: 0.1032 - accuracy: 0.9725 - val_loss: 0.0895 - val_accuracy: 0.9724\n",
            "Epoch 42/50\n",
            "72/72 [==============================] - 33s 455ms/step - loss: 0.0975 - accuracy: 0.9803 - val_loss: 0.0878 - val_accuracy: 0.9741\n",
            "Epoch 43/50\n",
            "72/72 [==============================] - 31s 426ms/step - loss: 0.0991 - accuracy: 0.9747 - val_loss: 0.0866 - val_accuracy: 0.9759\n",
            "Epoch 44/50\n",
            "72/72 [==============================] - 32s 451ms/step - loss: 0.0945 - accuracy: 0.9720 - val_loss: 0.0852 - val_accuracy: 0.9741\n",
            "Epoch 45/50\n",
            "72/72 [==============================] - 33s 453ms/step - loss: 0.0884 - accuracy: 0.9786 - val_loss: 0.0834 - val_accuracy: 0.9759\n",
            "Epoch 46/50\n",
            "72/72 [==============================] - 33s 453ms/step - loss: 0.0920 - accuracy: 0.9760 - val_loss: 0.0830 - val_accuracy: 0.9776\n",
            "Epoch 47/50\n",
            "72/72 [==============================] - 32s 448ms/step - loss: 0.0859 - accuracy: 0.9799 - val_loss: 0.0815 - val_accuracy: 0.9741\n",
            "Epoch 48/50\n",
            "72/72 [==============================] - 32s 450ms/step - loss: 0.0890 - accuracy: 0.9733 - val_loss: 0.0803 - val_accuracy: 0.9759\n",
            "Epoch 49/50\n",
            "72/72 [==============================] - 33s 455ms/step - loss: 0.0814 - accuracy: 0.9790 - val_loss: 0.0797 - val_accuracy: 0.9741\n",
            "Epoch 50/50\n",
            "72/72 [==============================] - 33s 464ms/step - loss: 0.0854 - accuracy: 0.9773 - val_loss: 0.0780 - val_accuracy: 0.9759\n"
          ]
        }
      ]
    },
    {
      "cell_type": "code",
      "source": [
        "loss, accuracy = model.evaluate(testX, testY)\n",
        "print('Test Accuracy =', accuracy)"
      ],
      "metadata": {
        "colab": {
          "base_uri": "https://localhost:8080/"
        },
        "id": "2y4VpodX6ex5",
        "outputId": "1b640a33-ef0f-4706-c3fe-760f744c4be9"
      },
      "execution_count": null,
      "outputs": [
        {
          "output_type": "stream",
          "name": "stdout",
          "text": [
            "19/19 [==============================] - 4s 202ms/step - loss: 0.0780 - accuracy: 0.9759\n",
            "Test Accuracy = 0.9758620858192444\n"
          ]
        }
      ]
    },
    {
      "cell_type": "code",
      "source": [
        "# make predictions on the testing set\n",
        "print(\"[INFO] evaluating network...\")\n",
        "predIdxs = model.predict(testX, batch_size=BS)\n",
        "# for each image in the testing set we need to find the index of the\n",
        "# label with corresponding largest predicted probability\n",
        "predIdxs = np.argmax(predIdxs, axis=1)\n",
        "# show a nicely formatted classification report\n",
        "print(classification_report(testY.argmax(axis=1), predIdxs,\n",
        "\ttarget_names=lb.classes_))\n",
        "# serialize the model to disk\n",
        "print(\"[INFO] saving mask detector model...\")\n",
        "model.save(\"/content/drive/MyDrive/model/VGG16_mask_detector.h5\")"
      ],
      "metadata": {
        "colab": {
          "base_uri": "https://localhost:8080/"
        },
        "id": "MtaxAwPRuXES",
        "outputId": "a850da35-fdc3-4d89-874d-3a13eb740b97"
      },
      "execution_count": null,
      "outputs": [
        {
          "output_type": "stream",
          "name": "stdout",
          "text": [
            "[INFO] evaluating network...\n",
            "19/19 [==============================] - 2s 126ms/step\n",
            "              precision    recall  f1-score   support\n",
            "\n",
            "   with_mask       0.97      0.99      0.98       320\n",
            "without_mask       0.98      0.96      0.97       260\n",
            "\n",
            "    accuracy                           0.98       580\n",
            "   macro avg       0.98      0.97      0.98       580\n",
            "weighted avg       0.98      0.98      0.98       580\n",
            "\n",
            "[INFO] saving mask detector model...\n"
          ]
        }
      ]
    },
    {
      "cell_type": "code",
      "source": [
        "# plot the training loss and accuracy\n",
        "N = EPOCHS\n",
        "plt.style.use(\"ggplot\")\n",
        "plt.figure()\n",
        "plt.plot(np.arange(0, N), H.history[\"loss\"], label=\"train_loss\")\n",
        "plt.plot(np.arange(0, N), H.history[\"val_loss\"], label=\"val_loss\")\n",
        "plt.plot(np.arange(0, N), H.history[\"accuracy\"], label=\"train_acc\")\n",
        "plt.plot(np.arange(0, N), H.history[\"val_accuracy\"], label=\"val_acc\")\n",
        "plt.title(\"Training Loss and Accuracy\")\n",
        "plt.xlabel(\"Epoch #\")\n",
        "plt.ylabel(\"Loss/Accuracy\")\n",
        "plt.legend(loc=\"lower left\")\n",
        "plt.savefig(\"plot.png\")"
      ],
      "metadata": {
        "colab": {
          "base_uri": "https://localhost:8080/",
          "height": 477
        },
        "id": "a4uJqqixucy6",
        "outputId": "f522ce7f-d441-4103-ea37-19f2ca1f5f9a"
      },
      "execution_count": null,
      "outputs": [
        {
          "output_type": "display_data",
          "data": {
            "text/plain": [
              "<Figure size 640x480 with 1 Axes>"
            ],
            "image/png": "[encoded data removed]"
          },
          "metadata": {}
        }
      ]
    },
    {
      "cell_type": "code",
      "source": [
        "import numpy as np\n",
        "from sklearn.metrics import confusion_matrix\n",
        "import seaborn as sns\n",
        "\n",
        "# compute the confusion matrix\n",
        "cm = confusion_matrix(testY.argmax(axis=1), predIdxs)\n",
        "\n",
        "# plot the confusion matrix\n",
        "plt.figure(figsize=(8, 6))\n",
        "sns.heatmap(cm, annot=True, fmt=\"d\", cmap=\"Blues\")\n",
        "plt.title(\"Confusion Matrix\")\n",
        "plt.xlabel(\"Predicted Labels\")\n",
        "plt.ylabel(\"True Labels\")\n",
        "plt.show()"
      ],
      "metadata": {
        "colab": {
          "base_uri": "https://localhost:8080/",
          "height": 569
        },
        "id": "5z4LqSQw96c0",
        "outputId": "db9a9fff-4490-4f00-e95b-33d92889bbb0"
      },
      "execution_count": null,
      "outputs": [
        {
          "output_type": "display_data",
          "data": {
            "text/plain": [
              "<Figure size 800x600 with 2 Axes>"
            ],
            "image/png": "[encoded data removed]"
          },
          "metadata": {}
        }
      ]
    }
  ]
}